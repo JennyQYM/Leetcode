{
 "cells": [
  {
   "cell_type": "code",
   "execution_count": 2,
   "metadata": {},
   "outputs": [],
   "source": [
    "# the idea of class\n",
    "\n",
    "class Solution:\n",
    "    def generateParenthesis(n):\n",
    "        if n == 0:\n",
    "            return []\n",
    "        result = []\n",
    "        return helpler(n,n,'',result)\n",
    "    def helpler(self, l, r, item, result):\n",
    "        if r > l:\n",
    "            return\n",
    "        if r==0 and l==0:\n",
    "            result.append(item)\n",
    "        if r > 0:\n",
    "            helpler(l-1, r, item+'(', result)\n",
    "        if l > 0:\n",
    "            helpler(l, r-1, item+')', result)            "
   ]
  },
  {
   "cell_type": "code",
   "execution_count": 10,
   "metadata": {},
   "outputs": [],
   "source": [
    "class Solution:\n",
    "    def generateParenthesis(self, n):\n",
    "        if n == 0:\n",
    "            return []\n",
    "        result = []\n",
    "        self.helpler(n,n,'',result)\n",
    "        return result\n",
    "    \n",
    "    def helpler(self, l, r, item, result):\n",
    "        if l > r:\n",
    "            return\n",
    "        if r==0 and l==0:\n",
    "            result.append(item)\n",
    "        if l > 0:\n",
    "            self.helpler(l-1, r, item+'(', result)\n",
    "        if r > 0:\n",
    "            self.helpler(l, r-1, item+')', result)    "
   ]
  },
  {
   "cell_type": "code",
   "execution_count": 11,
   "metadata": {},
   "outputs": [
    {
     "data": {
      "text/plain": [
       "['((()))', '(()())', '(())()', '()(())', '()()()']"
      ]
     },
     "execution_count": 11,
     "metadata": {},
     "output_type": "execute_result"
    }
   ],
   "source": [
    "result = Solution()\n",
    "result.generateParenthesis(3)"
   ]
  }
 ],
 "metadata": {
  "kernelspec": {
   "display_name": "Python 3",
   "language": "python",
   "name": "python3"
  },
  "language_info": {
   "codemirror_mode": {
    "name": "ipython",
    "version": 3
   },
   "file_extension": ".py",
   "mimetype": "text/x-python",
   "name": "python",
   "nbconvert_exporter": "python",
   "pygments_lexer": "ipython3",
   "version": "3.6.5"
  },
  "toc": {
   "base_numbering": 1,
   "nav_menu": {},
   "number_sections": true,
   "sideBar": true,
   "skip_h1_title": false,
   "title_cell": "Table of Contents",
   "title_sidebar": "Contents",
   "toc_cell": false,
   "toc_position": {},
   "toc_section_display": true,
   "toc_window_display": false
  }
 },
 "nbformat": 4,
 "nbformat_minor": 2
}
