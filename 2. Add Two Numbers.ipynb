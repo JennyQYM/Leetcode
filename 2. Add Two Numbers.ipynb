{
 "cells": [
  {
   "cell_type": "code",
   "execution_count": 2,
   "metadata": {},
   "outputs": [],
   "source": [
    "class ListNode:\n",
    "    def __init__(self, x):\n",
    "        self.val = x\n",
    "        self.next = None\n",
    "\n",
    "class Solution:\n",
    "    def addTwoNumbers(l1, l2):\n",
    "        if l1 is None:\n",
    "            return l2\n",
    "        \n",
    "        if l2 is None:\n",
    "            return l1\n",
    "        \n",
    "        carry = 0\n",
    "        p = dummy = ListNode(0)\n",
    "        \n",
    "        while l1 and l2:\n",
    "            p.next = ListNode((carry + l1.val + l2.val)%10)\n",
    "            carry = (carry + l1.val + l2.val)//10\n",
    "            l1 = l1.next\n",
    "            l2 = l2.next\n",
    "            p = p.next\n",
    "        \n",
    "        if l1:\n",
    "            while l1:\n",
    "                p.next = ListNode((carry + l1.val)%10)\n",
    "                carry = (carry + l1.val)//10\n",
    "                l1 = l1.next\n",
    "                p = p.next  \n",
    "            \n",
    "        if l2:\n",
    "            while l2:\n",
    "                p.next = ListNode((carry + l2.val)%10)\n",
    "                carry = (carry + l2.val)//10\n",
    "                l2 = l2.next\n",
    "                p = p.next    \n",
    "            \n",
    "        if carry==1:\n",
    "            p.next = ListNode(1)\n",
    "            \n",
    "        return dummy.next"
   ]
  }
 ],
 "metadata": {
  "kernelspec": {
   "display_name": "Python 3",
   "language": "python",
   "name": "python3"
  },
  "language_info": {
   "codemirror_mode": {
    "name": "ipython",
    "version": 3
   },
   "file_extension": ".py",
   "mimetype": "text/x-python",
   "name": "python",
   "nbconvert_exporter": "python",
   "pygments_lexer": "ipython3",
   "version": "3.6.5"
  },
  "toc": {
   "base_numbering": 1,
   "nav_menu": {},
   "number_sections": true,
   "sideBar": true,
   "skip_h1_title": false,
   "title_cell": "Table of Contents",
   "title_sidebar": "Contents",
   "toc_cell": false,
   "toc_position": {},
   "toc_section_display": true,
   "toc_window_display": false
  }
 },
 "nbformat": 4,
 "nbformat_minor": 2
}
