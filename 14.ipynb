{
 "cells": [
  {
   "cell_type": "code",
   "execution_count": null,
   "metadata": {},
   "outputs": [],
   "source": [
    "# bug one: the input is '' or []\n",
    "# if strs == '' or strs == []:\n",
    "\n",
    "# the condition has priority\n",
    "# A or B, if A is true, B will not perform\n",
    "\n",
    "# min(strlist, key=len)\n",
    "\n",
    "# try except remove the [] '' problem\n",
    "# but must use the result format"
   ]
  },
  {
   "cell_type": "code",
   "execution_count": 2,
   "metadata": {},
   "outputs": [],
   "source": [
    "# method 1\n",
    "\n",
    "def longestCommonPrefix(strs):\n",
    "    for i in range(len(strs[0])):\n",
    "        for string in strs[1:]:\n",
    "            if string[i] != strs[0][i]:\n",
    "                return strs[0][:i]\n",
    "    return ''"
   ]
  },
  {
   "cell_type": "code",
   "execution_count": 3,
   "metadata": {},
   "outputs": [
    {
     "data": {
      "text/plain": [
       "'fl'"
      ]
     },
     "execution_count": 3,
     "metadata": {},
     "output_type": "execute_result"
    }
   ],
   "source": [
    "longestCommonPrefix([\"flower\",\"flow\",\"flight\"])"
   ]
  },
  {
   "cell_type": "code",
   "execution_count": null,
   "metadata": {},
   "outputs": [],
   "source": [
    "def longestCommonPrefix(self, strs: List[str]) -> str:\n",
    "    if strs == '' or strs == []:\n",
    "        return ''\n",
    "    for i in range(len(strs[0])):\n",
    "        for string in strs[1:]:\n",
    "            if len(string) <= i or string[i] != strs[0][i]:\n",
    "                return strs[0][:i]\n",
    "    return strs[0]"
   ]
  },
  {
   "cell_type": "code",
   "execution_count": 8,
   "metadata": {},
   "outputs": [],
   "source": [
    "# method 2\n",
    "\n",
    "def longestCommonPrefix(strs):\n",
    "\n",
    "    i = 0\n",
    "    result = ''\n",
    "    while True:\n",
    "        try:\n",
    "            sets = set(string[i] for string in strs)\n",
    "            if len(sets) != 1:\n",
    "                break\n",
    "            else:\n",
    "                i += 1\n",
    "                result += sets.pop()\n",
    "        except Exception as e:\n",
    "            break \n",
    "    return result"
   ]
  },
  {
   "cell_type": "code",
   "execution_count": 9,
   "metadata": {},
   "outputs": [
    {
     "data": {
      "text/plain": [
       "'fl'"
      ]
     },
     "execution_count": 9,
     "metadata": {},
     "output_type": "execute_result"
    }
   ],
   "source": [
    "longestCommonPrefix([\"flower\",\"flow\",\"flight\"])"
   ]
  },
  {
   "cell_type": "code",
   "execution_count": null,
   "metadata": {},
   "outputs": [],
   "source": []
  }
 ],
 "metadata": {
  "kernelspec": {
   "display_name": "Python 3",
   "language": "python",
   "name": "python3"
  },
  "language_info": {
   "codemirror_mode": {
    "name": "ipython",
    "version": 3
   },
   "file_extension": ".py",
   "mimetype": "text/x-python",
   "name": "python",
   "nbconvert_exporter": "python",
   "pygments_lexer": "ipython3",
   "version": "3.6.5"
  },
  "toc": {
   "base_numbering": 1,
   "nav_menu": {},
   "number_sections": true,
   "sideBar": true,
   "skip_h1_title": false,
   "title_cell": "Table of Contents",
   "title_sidebar": "Contents",
   "toc_cell": false,
   "toc_position": {},
   "toc_section_display": true,
   "toc_window_display": false
  }
 },
 "nbformat": 4,
 "nbformat_minor": 2
}
