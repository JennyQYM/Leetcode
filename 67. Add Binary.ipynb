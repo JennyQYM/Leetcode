{
 "cells": [
  {
   "cell_type": "code",
   "execution_count": 37,
   "metadata": {},
   "outputs": [],
   "source": [
    "# only consider the length of a and b is same\n",
    "# a[-(i+1)] \n",
    "# the index for reversed should i+1\n",
    "\n",
    "def addBinary(a, b):\n",
    "    result, val, carry = '', 0, 0\n",
    "    for i in range(max(len(a), len(b))):\n",
    "        val = int(a[-(i+1)]) + int(b[-(i+1)]) + carry\n",
    "        carry, val = val//2, val%2\n",
    "        result += str(val)\n",
    "    if carry == 1:\n",
    "        result += str(1) \n",
    "    return result[::-1]"
   ]
  },
  {
   "cell_type": "code",
   "execution_count": 38,
   "metadata": {},
   "outputs": [
    {
     "data": {
      "text/plain": [
       "'10101'"
      ]
     },
     "execution_count": 38,
     "metadata": {},
     "output_type": "execute_result"
    }
   ],
   "source": [
    "addBinary('1010', '1011')"
   ]
  },
  {
   "cell_type": "code",
   "execution_count": 42,
   "metadata": {},
   "outputs": [],
   "source": [
    "def addBinary(a, b):\n",
    "    result, val, carry = '', 0, 0\n",
    "    for i in range(max(len(a), len(b))):\n",
    "        val = carry\n",
    "        if i < len(a):\n",
    "            val += int(a[-(i+1)])\n",
    "        if i < len(b):\n",
    "            val += int(b[-(i+1)])\n",
    "        carry, val = val//2, val%2\n",
    "        result += str(val)\n",
    "    if carry == 1:\n",
    "        result += str(1) \n",
    "    return result[::-1]"
   ]
  },
  {
   "cell_type": "code",
   "execution_count": 43,
   "metadata": {},
   "outputs": [
    {
     "data": {
      "text/plain": [
       "'10101'"
      ]
     },
     "execution_count": 43,
     "metadata": {},
     "output_type": "execute_result"
    }
   ],
   "source": [
    "addBinary(\"1010\", \"1011\")"
   ]
  }
 ],
 "metadata": {
  "kernelspec": {
   "display_name": "Python 3",
   "language": "python",
   "name": "python3"
  },
  "language_info": {
   "codemirror_mode": {
    "name": "ipython",
    "version": 3
   },
   "file_extension": ".py",
   "mimetype": "text/x-python",
   "name": "python",
   "nbconvert_exporter": "python",
   "pygments_lexer": "ipython3",
   "version": "3.6.5"
  },
  "toc": {
   "base_numbering": 1,
   "nav_menu": {},
   "number_sections": true,
   "sideBar": true,
   "skip_h1_title": false,
   "title_cell": "Table of Contents",
   "title_sidebar": "Contents",
   "toc_cell": false,
   "toc_position": {},
   "toc_section_display": true,
   "toc_window_display": false
  }
 },
 "nbformat": 4,
 "nbformat_minor": 2
}
