{
 "cells": [
  {
   "cell_type": "code",
   "execution_count": 11,
   "metadata": {},
   "outputs": [],
   "source": [
    "# 1st try wrong reason????\n",
    "\n",
    "def lenLongestFibSubseq(A):\n",
    "    s = set(A)\n",
    "    n = len(A)\n",
    "    result = 0\n",
    "    for i in range(n-1):\n",
    "        for j in range(i+1,n):\n",
    "            a, b = i, j\n",
    "            count = 2\n",
    "            while a+b in s:\n",
    "                a, b = b, a+b\n",
    "                count += 1\n",
    "            result = max(result, count)\n",
    "    return result "
   ]
  },
  {
   "cell_type": "code",
   "execution_count": 12,
   "metadata": {},
   "outputs": [
    {
     "data": {
      "text/plain": [
       "7"
      ]
     },
     "execution_count": 12,
     "metadata": {},
     "output_type": "execute_result"
    }
   ],
   "source": [
    "lenLongestFibSubseq([1,2,3,4,5,6,7,8])"
   ]
  },
  {
   "cell_type": "code",
   "execution_count": 13,
   "metadata": {
    "code_folding": [
     8
    ]
   },
   "outputs": [],
   "source": [
    "# [1,3,5] the rule of Fibonacci \n",
    "\n",
    "def lenLongestFibSubseq(A):\n",
    "    s = set(A)\n",
    "    n = len(A)\n",
    "    result = 0\n",
    "    for i in range(n-1):\n",
    "        for j in range(i+1,n):\n",
    "            a, b = A[i], A[j]\n",
    "            count = 2\n",
    "            while a+b in s:\n",
    "                a, b = b, a+b\n",
    "                count += 1\n",
    "            result = max(result, count)\n",
    "    return result "
   ]
  },
  {
   "cell_type": "code",
   "execution_count": 14,
   "metadata": {},
   "outputs": [
    {
     "data": {
      "text/plain": [
       "5"
      ]
     },
     "execution_count": 14,
     "metadata": {},
     "output_type": "execute_result"
    }
   ],
   "source": [
    "lenLongestFibSubseq([1,2,3,4,5,6,7,8])"
   ]
  },
  {
   "cell_type": "code",
   "execution_count": 15,
   "metadata": {},
   "outputs": [],
   "source": [
    "def lenLongestFibSubseq(A):\n",
    "    s = set(A)\n",
    "    n = len(A)\n",
    "    result = 0\n",
    "    for i in range(n-1):\n",
    "        for j in range(i+1,n):\n",
    "            a, b = A[i], A[j]\n",
    "            count = 2\n",
    "            while a+b in s:\n",
    "                a, b = b, a+b\n",
    "                count += 1\n",
    "            result = max(result, count)\n",
    "    return result if result > 2 else 0"
   ]
  },
  {
   "cell_type": "code",
   "execution_count": 16,
   "metadata": {},
   "outputs": [
    {
     "data": {
      "text/plain": [
       "0"
      ]
     },
     "execution_count": 16,
     "metadata": {},
     "output_type": "execute_result"
    }
   ],
   "source": [
    "lenLongestFibSubseq([1,3,5])"
   ]
  }
 ],
 "metadata": {
  "kernelspec": {
   "display_name": "Python 3",
   "language": "python",
   "name": "python3"
  },
  "language_info": {
   "codemirror_mode": {
    "name": "ipython",
    "version": 3
   },
   "file_extension": ".py",
   "mimetype": "text/x-python",
   "name": "python",
   "nbconvert_exporter": "python",
   "pygments_lexer": "ipython3",
   "version": "3.6.5"
  },
  "toc": {
   "base_numbering": 1,
   "nav_menu": {},
   "number_sections": true,
   "sideBar": true,
   "skip_h1_title": false,
   "title_cell": "Table of Contents",
   "title_sidebar": "Contents",
   "toc_cell": false,
   "toc_position": {},
   "toc_section_display": true,
   "toc_window_display": false
  }
 },
 "nbformat": 4,
 "nbformat_minor": 2
}
