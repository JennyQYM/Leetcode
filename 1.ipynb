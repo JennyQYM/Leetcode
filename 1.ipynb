{
 "cells": [
  {
   "cell_type": "code",
   "execution_count": null,
   "metadata": {},
   "outputs": [],
   "source": [
    "# list.index(item_in_list) only return the first value for the index\n",
    "# if a in dict_key"
   ]
  },
  {
   "cell_type": "code",
   "execution_count": 8,
   "metadata": {
    "code_folding": []
   },
   "outputs": [],
   "source": [
    "# the first method\n",
    "def TwoSum(nums, target):\n",
    "    for i in nums:\n",
    "        j = target - i\n",
    "        start_index = nums.index(i)\n",
    "        next_index = start_index + 1\n",
    "        if j in nums[next_index:]:\n",
    "            return (nums.index(i),nums.index(j))"
   ]
  },
  {
   "cell_type": "code",
   "execution_count": 9,
   "metadata": {},
   "outputs": [
    {
     "data": {
      "text/plain": [
       "(0, 0)"
      ]
     },
     "execution_count": 9,
     "metadata": {},
     "output_type": "execute_result"
    }
   ],
   "source": [
    "TwoSum([3,3], 6)\n",
    "\n",
    "# the problem is index function return the first index of value in python\n",
    "# new function"
   ]
  },
  {
   "cell_type": "code",
   "execution_count": 10,
   "metadata": {},
   "outputs": [],
   "source": [
    "# the second method to solve the index problem\n",
    "def TwoSum(nums, target):\n",
    "    for i in nums:\n",
    "        j = target - i\n",
    "        start_index = nums.index(i)\n",
    "        next_index = start_index + 1\n",
    "        tempnums = nums[next_index:]\n",
    "        if j in tempnums:\n",
    "            return (nums.index(i),next_index + tempnums.index(j))"
   ]
  },
  {
   "cell_type": "code",
   "execution_count": 11,
   "metadata": {},
   "outputs": [
    {
     "data": {
      "text/plain": [
       "(0, 1)"
      ]
     },
     "execution_count": 11,
     "metadata": {},
     "output_type": "execute_result"
    }
   ],
   "source": [
    "TwoSum([3,3], 6)"
   ]
  },
  {
   "cell_type": "code",
   "execution_count": 18,
   "metadata": {},
   "outputs": [],
   "source": [
    "# hash table\n",
    "def TwoSum(nums, target):\n",
    "    mydict = {}\n",
    "    for i in range(len(nums)):\n",
    "        if target - nums[i] not in mydict:\n",
    "            mydict[nums[i]] = i\n",
    "        else:\n",
    "            return(mydict[target - nums[i]],i)"
   ]
  },
  {
   "cell_type": "code",
   "execution_count": 19,
   "metadata": {},
   "outputs": [
    {
     "data": {
      "text/plain": [
       "(0, 1)"
      ]
     },
     "execution_count": 19,
     "metadata": {},
     "output_type": "execute_result"
    }
   ],
   "source": [
    "TwoSum([3,3], 6)"
   ]
  }
 ],
 "metadata": {
  "kernelspec": {
   "display_name": "Python 3",
   "language": "python",
   "name": "python3"
  },
  "language_info": {
   "codemirror_mode": {
    "name": "ipython",
    "version": 3
   },
   "file_extension": ".py",
   "mimetype": "text/x-python",
   "name": "python",
   "nbconvert_exporter": "python",
   "pygments_lexer": "ipython3",
   "version": "3.6.5"
  },
  "toc": {
   "base_numbering": 1,
   "nav_menu": {},
   "number_sections": true,
   "sideBar": true,
   "skip_h1_title": false,
   "title_cell": "Table of Contents",
   "title_sidebar": "Contents",
   "toc_cell": false,
   "toc_position": {},
   "toc_section_display": true,
   "toc_window_display": false
  }
 },
 "nbformat": 4,
 "nbformat_minor": 2
}
