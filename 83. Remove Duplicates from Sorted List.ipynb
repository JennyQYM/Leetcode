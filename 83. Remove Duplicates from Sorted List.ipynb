{
 "cells": [
  {
   "cell_type": "code",
   "execution_count": 1,
   "metadata": {},
   "outputs": [
    {
     "ename": "SyntaxError",
     "evalue": "invalid syntax (<ipython-input-1-462488a80e3d>, line 6)",
     "output_type": "error",
     "traceback": [
      "\u001b[0;36m  File \u001b[0;32m\"<ipython-input-1-462488a80e3d>\"\u001b[0;36m, line \u001b[0;32m6\u001b[0m\n\u001b[0;31m    while dummy.val = runner.val:\u001b[0m\n\u001b[0m                    ^\u001b[0m\n\u001b[0;31mSyntaxError\u001b[0m\u001b[0;31m:\u001b[0m invalid syntax\n"
     ]
    }
   ],
   "source": [
    "def deleteDuplicates(head):\n",
    "    dummy = head\n",
    "    \n",
    "    while dummy:\n",
    "        runner = dummy.next\n",
    "        while dummy.val = runner.val:\n",
    "            runner = runner.next\n",
    "        dummy.next = runner\n",
    "        dummy = runner\n",
    "    return head"
   ]
  },
  {
   "cell_type": "code",
   "execution_count": 2,
   "metadata": {},
   "outputs": [],
   "source": [
    "def deleteDuplicates(head):\n",
    "    dummy = head\n",
    "    \n",
    "    while dummy:\n",
    "        runner = dummy.next\n",
    "        while runner and dummy.val == runner.val:\n",
    "            runner = runner.next\n",
    "        dummy.next = runner\n",
    "        dummy = runner\n",
    "    return head"
   ]
  }
 ],
 "metadata": {
  "kernelspec": {
   "display_name": "Python 3",
   "language": "python",
   "name": "python3"
  },
  "language_info": {
   "codemirror_mode": {
    "name": "ipython",
    "version": 3
   },
   "file_extension": ".py",
   "mimetype": "text/x-python",
   "name": "python",
   "nbconvert_exporter": "python",
   "pygments_lexer": "ipython3",
   "version": "3.6.5"
  },
  "toc": {
   "base_numbering": 1,
   "nav_menu": {},
   "number_sections": true,
   "sideBar": true,
   "skip_h1_title": false,
   "title_cell": "Table of Contents",
   "title_sidebar": "Contents",
   "toc_cell": false,
   "toc_position": {},
   "toc_section_display": true,
   "toc_window_display": false
  }
 },
 "nbformat": 4,
 "nbformat_minor": 2
}
